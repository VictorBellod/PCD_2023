{
 "cells": [
  {
   "cell_type": "code",
   "execution_count": 1,
   "id": "1e4f5077-eeb4-4afa-9a73-3733554b9971",
   "metadata": {},
   "outputs": [
    {
     "name": "stdout",
     "output_type": "stream",
     "text": [
      "Collecting python3-nmap\n",
      "  Downloading python3_nmap-1.6.0-py3-none-any.whl (26 kB)\n",
      "Collecting simplejson (from python3-nmap)\n",
      "  Downloading simplejson-3.19.1-cp311-cp311-win_amd64.whl (75 kB)\n",
      "     ---------------------------------------- 0.0/75.3 kB ? eta -:--:--\n",
      "     ---------------------------------------- 75.3/75.3 kB 2.1 MB/s eta 0:00:00\n",
      "Installing collected packages: simplejson, python3-nmap\n",
      "Successfully installed python3-nmap-1.6.0 simplejson-3.19.1\n"
     ]
    }
   ],
   "source": [
    "!pip install python3-nmap"
   ]
  },
  {
   "cell_type": "code",
   "execution_count": 1,
   "id": "3c97ba51-609a-4cdf-a3b6-08f7e479a3db",
   "metadata": {},
   "outputs": [],
   "source": [
    "import nmap3"
   ]
  },
  {
   "cell_type": "code",
   "execution_count": 2,
   "id": "69d0d1d6-ae30-4d69-837a-3d5f6acb9343",
   "metadata": {},
   "outputs": [],
   "source": [
    "nmap = nmap3.Nmap()"
   ]
  },
  {
   "cell_type": "markdown",
   "id": "0cb94295-dfa9-4a70-b2af-9805401e8817",
   "metadata": {},
   "source": []
  }
 ],
 "metadata": {
  "kernelspec": {
   "display_name": "Python 3 (ipykernel)",
   "language": "python",
   "name": "python3"
  },
  "language_info": {
   "codemirror_mode": {
    "name": "ipython",
    "version": 3
   },
   "file_extension": ".py",
   "mimetype": "text/x-python",
   "name": "python",
   "nbconvert_exporter": "python",
   "pygments_lexer": "ipython3",
   "version": "3.11.5"
  }
 },
 "nbformat": 4,
 "nbformat_minor": 5
}
