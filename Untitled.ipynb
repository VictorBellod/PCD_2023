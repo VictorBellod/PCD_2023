{
 "cells": [
  {
   "cell_type": "markdown",
   "id": "6d0e4c90-468b-4f16-bd5c-2e9f439e0fff",
   "metadata": {},
   "source": [
    "# Clase 10/10/23"
   ]
  },
  {
   "cell_type": "code",
   "execution_count": 2,
   "id": "b2fa3167-3910-4920-aa8f-109f885f50fa",
   "metadata": {},
   "outputs": [],
   "source": [
    "import os, threading as th, time, urllib.request as rq, concurrent as ct, IPython as IP"
   ]
  },
  {
   "cell_type": "code",
   "execution_count": 12,
   "id": "5d39146b-6c51-40c0-bcb1-5a7d79171d9a",
   "metadata": {},
   "outputs": [
    {
     "name": "stdin",
     "output_type": "stream",
     "text": [
      "number 01\n"
     ]
    }
   ],
   "source": [
    "img=int(input(\"number\"))"
   ]
  },
  {
   "cell_type": "code",
   "execution_count": 25,
   "id": "fc60eb7a-375d-45fb-b2a5-a244f4b13a3c",
   "metadata": {},
   "outputs": [],
   "source": [
    "img_url='https://storage.cloud.google.com/pcd-images-threads/IMG_3727.jpeg'.format(img)"
   ]
  },
  {
   "cell_type": "code",
   "execution_count": 26,
   "id": "c3e83ca1-0405-4cce-8354-3a8279626a47",
   "metadata": {},
   "outputs": [
    {
     "data": {
      "text/plain": [
       "'https://storage.cloud.google.com/pcd-images-threads/IMG_3727.jpeg'"
      ]
     },
     "execution_count": 26,
     "metadata": {},
     "output_type": "execute_result"
    }
   ],
   "source": [
    "img_url"
   ]
  },
  {
   "cell_type": "code",
   "execution_count": 27,
   "id": "14d8fb5d-c9e3-4b17-9f43-5a9da07eb036",
   "metadata": {},
   "outputs": [],
   "source": [
    "a_url_=[]"
   ]
  },
  {
   "cell_type": "code",
   "execution_count": 28,
   "id": "125cd4da-2ef8-41cc-8fc9-9b857aba44aa",
   "metadata": {},
   "outputs": [
    {
     "name": "stdout",
     "output_type": "stream",
     "text": [
      "https://storage.cloud.google.com/pcd-images-threads/IMG_37270.jpeg\n",
      "https://storage.cloud.google.com/pcd-images-threads/IMG_37271.jpeg\n",
      "https://storage.cloud.google.com/pcd-images-threads/IMG_37272.jpeg\n",
      "https://storage.cloud.google.com/pcd-images-threads/IMG_37273.jpeg\n",
      "https://storage.cloud.google.com/pcd-images-threads/IMG_37274.jpeg\n",
      "https://storage.cloud.google.com/pcd-images-threads/IMG_37275.jpeg\n",
      "https://storage.cloud.google.com/pcd-images-threads/IMG_37276.jpeg\n",
      "https://storage.cloud.google.com/pcd-images-threads/IMG_37277.jpeg\n",
      "https://storage.cloud.google.com/pcd-images-threads/IMG_37278.jpeg\n",
      "https://storage.cloud.google.com/pcd-images-threads/IMG_37279.jpeg\n"
     ]
    }
   ],
   "source": [
    "for i in range(10):\n",
    "    img_uri_='https://storage.cloud.google.com/pcd-images-threads/IMG_3727'+str(i)+'.jpeg'\n",
    "    print(img_uri_)\n",
    "    a_url_.append(img_uri)"
   ]
  },
  {
   "cell_type": "code",
   "execution_count": 29,
   "id": "10ca8abe-a5b0-4325-962c-24e23feeb203",
   "metadata": {},
   "outputs": [
    {
     "data": {
      "text/plain": [
       "['https://storage.googleapis.com/christian_vladimir_sucuzhanay_bucket/pictures_videos/pic009.jpeg',\n",
       " 'https://storage.googleapis.com/christian_vladimir_sucuzhanay_bucket/pictures_videos/pic009.jpeg',\n",
       " 'https://storage.googleapis.com/christian_vladimir_sucuzhanay_bucket/pictures_videos/pic009.jpeg',\n",
       " 'https://storage.googleapis.com/christian_vladimir_sucuzhanay_bucket/pictures_videos/pic009.jpeg',\n",
       " 'https://storage.googleapis.com/christian_vladimir_sucuzhanay_bucket/pictures_videos/pic009.jpeg',\n",
       " 'https://storage.googleapis.com/christian_vladimir_sucuzhanay_bucket/pictures_videos/pic009.jpeg',\n",
       " 'https://storage.googleapis.com/christian_vladimir_sucuzhanay_bucket/pictures_videos/pic009.jpeg',\n",
       " 'https://storage.googleapis.com/christian_vladimir_sucuzhanay_bucket/pictures_videos/pic009.jpeg',\n",
       " 'https://storage.googleapis.com/christian_vladimir_sucuzhanay_bucket/pictures_videos/pic009.jpeg',\n",
       " 'https://storage.googleapis.com/christian_vladimir_sucuzhanay_bucket/pictures_videos/pic009.jpeg']"
      ]
     },
     "execution_count": 29,
     "metadata": {},
     "output_type": "execute_result"
    }
   ],
   "source": [
    "a_url_\n"
   ]
  },
  {
   "cell_type": "code",
   "execution_count": 30,
   "id": "20639855-2f2e-4acf-a411-027546c9d135",
   "metadata": {},
   "outputs": [],
   "source": [
    "id_img= \"002\""
   ]
  },
  {
   "cell_type": "code",
   "execution_count": 31,
   "id": "f35048fc-62e2-4652-89d8-64b458913b5a",
   "metadata": {},
   "outputs": [
    {
     "data": {
      "text/plain": [
       "'C:\\\\Users\\\\victo\\\\Desktop\\\\PCD_2023'"
      ]
     },
     "execution_count": 31,
     "metadata": {},
     "output_type": "execute_result"
    }
   ],
   "source": [
    "pwd"
   ]
  },
  {
   "cell_type": "code",
   "execution_count": 32,
   "id": "7f37a2dd-1b9d-44ac-acaa-f5d923a48c92",
   "metadata": {},
   "outputs": [],
   "source": [
    "def seg_download_images(image_numbers):\n",
    "    total_bytes=0\n",
    "    for num in image_numbers:\n",
    "        total_bytes += _download_image(num)\n",
    "    return total_bytes"
   ]
  },
  {
   "cell_type": "code",
   "execution_count": null,
   "id": "376af312-be18-465a-b874-d22ebd9c1d65",
   "metadata": {},
   "outputs": [],
   "source": []
  }
 ],
 "metadata": {
  "kernelspec": {
   "display_name": "Python 3 (ipykernel)",
   "language": "python",
   "name": "python3"
  },
  "language_info": {
   "codemirror_mode": {
    "name": "ipython",
    "version": 3
   },
   "file_extension": ".py",
   "mimetype": "text/x-python",
   "name": "python",
   "nbconvert_exporter": "python",
   "pygments_lexer": "ipython3",
   "version": "3.11.5"
  }
 },
 "nbformat": 4,
 "nbformat_minor": 5
}
