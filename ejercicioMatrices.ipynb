{
 "cells": [
  {
   "cell_type": "markdown",
   "id": "056f8851-efd0-4153-aab8-bd394e061358",
   "metadata": {},
   "source": [
    "Matriz a que tenga 300 x 300 con numeros aleatorios de 0 a ,i numero de expediente(222)"
   ]
  },
  {
   "cell_type": "code",
   "execution_count": null,
   "id": "522f488f-7d49-491b-bae7-3c0b85417bc1",
   "metadata": {},
   "outputs": [],
   "source": [
    "import numpy as np"
   ]
  },
  {
   "cell_type": "code",
   "execution_count": 62,
   "id": "53c63d52-474f-4c24-8f78-e3f841f4513a",
   "metadata": {},
   "outputs": [],
   "source": [
    "A = [[rd.randint(0, 223) for i in range (fil_a)] for j in range(col_b)]"
   ]
  },
  {
   "cell_type": "code",
   "execution_count": null,
   "id": "4f4273ed-dff4-4274-a6d6-67af28087119",
   "metadata": {},
   "outputs": [],
   "source": [
    "A"
   ]
  },
  {
   "cell_type": "code",
   "execution_count": null,
   "id": "91a845bd-79a5-4ec3-8a1c-044e23566993",
   "metadata": {},
   "outputs": [],
   "source": []
  },
  {
   "cell_type": "code",
   "execution_count": null,
   "id": "f3c86d54-d879-44f5-8dea-81a4b89dc73a",
   "metadata": {},
   "outputs": [],
   "source": [
    "import random as rd"
   ]
  },
  {
   "cell_type": "code",
   "execution_count": 63,
   "id": "c815b016-6449-4430-8a8a-516ea3d1cb63",
   "metadata": {},
   "outputs": [],
   "source": [
    "B = [[rd.randint(0, 223) for i in range (fil_b)] for j in range(col_b)]"
   ]
  },
  {
   "cell_type": "code",
   "execution_count": null,
   "id": "34f69e02-4bb6-46d8-bd31-30adea6f2573",
   "metadata": {},
   "outputs": [],
   "source": [
    "B"
   ]
  },
  {
   "cell_type": "code",
   "execution_count": null,
   "id": "580d46d5-3658-45fc-ad6e-295bbcf51883",
   "metadata": {},
   "outputs": [],
   "source": [
    "len(A[0])"
   ]
  },
  {
   "cell_type": "code",
   "execution_count": null,
   "id": "ff66a08b-bb96-4f4a-ad37-f5242f8a6ca7",
   "metadata": {},
   "outputs": [],
   "source": [
    "len(A)"
   ]
  },
  {
   "cell_type": "code",
   "execution_count": null,
   "id": "e5ef2ee8-7a20-4872-9ca9-de8299894651",
   "metadata": {},
   "outputs": [],
   "source": [
    "if len(A[0]) == len(B):\n",
    "    print('Las matrices son compatibles')\n",
    "else:\n",
    "    print('tarugo, deben de ser compatibles')"
   ]
  },
  {
   "cell_type": "code",
   "execution_count": 58,
   "id": "622bfd69-1cd2-4b0b-99ff-32cd4d478d51",
   "metadata": {},
   "outputs": [
    {
     "name": "stdin",
     "output_type": "stream",
     "text": [
      "Ingrese las filas de A: 3\n"
     ]
    }
   ],
   "source": [
    "fil_a=int(input ('Ingrese las filas de A:'))"
   ]
  },
  {
   "cell_type": "code",
   "execution_count": 59,
   "id": "35b21b74-c063-42a5-9f36-cf6598aff176",
   "metadata": {},
   "outputs": [
    {
     "name": "stdin",
     "output_type": "stream",
     "text": [
      "Ingrese las columnas de A: 3\n"
     ]
    }
   ],
   "source": [
    "col_a=int(input ('Ingrese las columnas de A:'))"
   ]
  },
  {
   "cell_type": "code",
   "execution_count": null,
   "id": "1eb38b22-97c6-446f-84bf-6ad9bd41ad3a",
   "metadata": {},
   "outputs": [],
   "source": [
    "fil_b=input ('Ingrese las filas de B:')"
   ]
  },
  {
   "cell_type": "code",
   "execution_count": null,
   "id": "ffe9ca87-9a04-4bd1-91eb-23d81f65a374",
   "metadata": {},
   "outputs": [],
   "source": [
    "col_b=input ('Ingrese las columnas de B:')"
   ]
  },
  {
   "cell_type": "code",
   "execution_count": 60,
   "id": "8f74ed03-fe35-465c-b988-0fd022666a60",
   "metadata": {},
   "outputs": [
    {
     "name": "stdin",
     "output_type": "stream",
     "text": [
      "Ingrese las filas de B: 3\n"
     ]
    }
   ],
   "source": [
    "fil_b=int(input ('Ingrese las filas de B:'))"
   ]
  },
  {
   "cell_type": "code",
   "execution_count": 61,
   "id": "7d523eca-9578-402a-b3c3-71587c63b2f3",
   "metadata": {},
   "outputs": [
    {
     "name": "stdin",
     "output_type": "stream",
     "text": [
      "Ingrese las columnas de B: 3\n"
     ]
    }
   ],
   "source": [
    "col_b=int(input ('Ingrese las columnas de B:'))"
   ]
  },
  {
   "cell_type": "code",
   "execution_count": null,
   "id": "062a6640-e688-4bc2-9b06-36993fbb41f6",
   "metadata": {},
   "outputs": [],
   "source": [
    "print('las dimensiones introducidas son A:',fil_a , col_a)"
   ]
  },
  {
   "cell_type": "code",
   "execution_count": null,
   "id": "2a46e66e-68cc-4f16-953e-d4e260eccfea",
   "metadata": {},
   "outputs": [],
   "source": [
    "print('las dimensiones introducidas son B:',fil_b , col_b)"
   ]
  },
  {
   "cell_type": "code",
   "execution_count": 64,
   "id": "d83f6e6b-7c1c-4a5f-ab91-dd5782c9f773",
   "metadata": {},
   "outputs": [],
   "source": [
    "def mult_seq(A,B):\n",
    "    m = len(A)\n",
    "    n = len(A[0])\n",
    "    p = len(B[0])\n",
    "    C = [[0 for _ in range(p)] for _ in range(m)]\n",
    "    if len(B) != n:\n",
    "        print(\"No es posible multiplicar las matrices, las dimensiones no son compatibles\")\n",
    "        return None\n",
    "    for i in range(m):\n",
    "        for j in range(p):\n",
    "            for k in range(n):\n",
    "                C[i][j] += A[i][k] * B[k][j]\n",
    "    return C"
   ]
  },
  {
   "cell_type": "code",
   "execution_count": 65,
   "id": "d3347858-eff8-41db-8afb-bd3b3dae488f",
   "metadata": {},
   "outputs": [
    {
     "data": {
      "text/plain": [
       "[[30225, 54078, 38028], [19744, 24530, 12421], [10574, 23216, 18514]]"
      ]
     },
     "execution_count": 65,
     "metadata": {},
     "output_type": "execute_result"
    }
   ],
   "source": [
    "mult_seq(A,B)"
   ]
  },
  {
   "cell_type": "code",
   "execution_count": null,
   "id": "c5eaf07e-dab0-45b3-8bd3-71cf72fc453d",
   "metadata": {},
   "outputs": [],
   "source": []
  }
 ],
 "metadata": {
  "kernelspec": {
   "display_name": "Python 3 (ipykernel)",
   "language": "python",
   "name": "python3"
  },
  "language_info": {
   "codemirror_mode": {
    "name": "ipython",
    "version": 3
   },
   "file_extension": ".py",
   "mimetype": "text/x-python",
   "name": "python",
   "nbconvert_exporter": "python",
   "pygments_lexer": "ipython3",
   "version": "3.11.5"
  }
 },
 "nbformat": 4,
 "nbformat_minor": 5
}
