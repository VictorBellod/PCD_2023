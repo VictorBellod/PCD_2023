{
 "cells": [
  {
   "cell_type": "markdown",
   "id": "056f8851-efd0-4153-aab8-bd394e061358",
   "metadata": {},
   "source": [
    "Matriz a que tenga 300 x 300 con numeros aleatorios de 0 a ,i numero de expediente(222)"
   ]
  },
  {
   "cell_type": "code",
   "execution_count": null,
   "id": "522f488f-7d49-491b-bae7-3c0b85417bc1",
   "metadata": {},
   "outputs": [],
   "source": [
    "import numpy as np"
   ]
  },
  {
   "cell_type": "code",
   "execution_count": 14,
   "id": "53c63d52-474f-4c24-8f78-e3f841f4513a",
   "metadata": {},
   "outputs": [],
   "source": [
    "A = [[rd.randint(0, 223) for i in range (fil_a)] for j in range(col_b)]"
   ]
  },
  {
   "cell_type": "code",
   "execution_count": null,
   "id": "4f4273ed-dff4-4274-a6d6-67af28087119",
   "metadata": {},
   "outputs": [],
   "source": [
    "A"
   ]
  },
  {
   "cell_type": "code",
   "execution_count": null,
   "id": "91a845bd-79a5-4ec3-8a1c-044e23566993",
   "metadata": {},
   "outputs": [],
   "source": []
  },
  {
   "cell_type": "code",
   "execution_count": 12,
   "id": "f3c86d54-d879-44f5-8dea-81a4b89dc73a",
   "metadata": {},
   "outputs": [],
   "source": [
    "import random as rd"
   ]
  },
  {
   "cell_type": "code",
   "execution_count": 13,
   "id": "c815b016-6449-4430-8a8a-516ea3d1cb63",
   "metadata": {},
   "outputs": [],
   "source": [
    "B = [[rd.randint(0, 223) for i in range (fil_b)] for j in range(col_b)]"
   ]
  },
  {
   "cell_type": "code",
   "execution_count": null,
   "id": "34f69e02-4bb6-46d8-bd31-30adea6f2573",
   "metadata": {},
   "outputs": [],
   "source": [
    "B"
   ]
  },
  {
   "cell_type": "code",
   "execution_count": null,
   "id": "580d46d5-3658-45fc-ad6e-295bbcf51883",
   "metadata": {},
   "outputs": [],
   "source": [
    "len(A[0])"
   ]
  },
  {
   "cell_type": "code",
   "execution_count": null,
   "id": "ff66a08b-bb96-4f4a-ad37-f5242f8a6ca7",
   "metadata": {},
   "outputs": [],
   "source": [
    "len(A)"
   ]
  },
  {
   "cell_type": "code",
   "execution_count": null,
   "id": "e5ef2ee8-7a20-4872-9ca9-de8299894651",
   "metadata": {},
   "outputs": [],
   "source": [
    "if len(A[0]) == len(B):\n",
    "    print('Las matrices son compatibles')\n",
    "else:\n",
    "    print('tarugo, deben de ser compatibles')"
   ]
  },
  {
   "cell_type": "code",
   "execution_count": 7,
   "id": "622bfd69-1cd2-4b0b-99ff-32cd4d478d51",
   "metadata": {},
   "outputs": [
    {
     "name": "stdin",
     "output_type": "stream",
     "text": [
      "Ingrese las filas de A: 3\n"
     ]
    }
   ],
   "source": [
    "fil_a=int(input ('Ingrese las filas de A:'))"
   ]
  },
  {
   "cell_type": "code",
   "execution_count": 8,
   "id": "35b21b74-c063-42a5-9f36-cf6598aff176",
   "metadata": {},
   "outputs": [
    {
     "name": "stdin",
     "output_type": "stream",
     "text": [
      "Ingrese las columnas de A: 3\n"
     ]
    }
   ],
   "source": [
    "col_a=int(input ('Ingrese las columnas de A:'))"
   ]
  },
  {
   "cell_type": "code",
   "execution_count": 9,
   "id": "8f74ed03-fe35-465c-b988-0fd022666a60",
   "metadata": {},
   "outputs": [
    {
     "name": "stdin",
     "output_type": "stream",
     "text": [
      "Ingrese las filas de B: 3\n"
     ]
    }
   ],
   "source": [
    "fil_b=int(input ('Ingrese las filas de B:'))"
   ]
  },
  {
   "cell_type": "code",
   "execution_count": 10,
   "id": "7d523eca-9578-402a-b3c3-71587c63b2f3",
   "metadata": {},
   "outputs": [
    {
     "name": "stdin",
     "output_type": "stream",
     "text": [
      "Ingrese las columnas de B: 3\n"
     ]
    }
   ],
   "source": [
    "col_b=int(input ('Ingrese las columnas de B:'))"
   ]
  },
  {
   "cell_type": "code",
   "execution_count": null,
   "id": "062a6640-e688-4bc2-9b06-36993fbb41f6",
   "metadata": {},
   "outputs": [],
   "source": [
    "print('las dimensiones introducidas son A:',fil_a , col_a)"
   ]
  },
  {
   "cell_type": "code",
   "execution_count": null,
   "id": "2a46e66e-68cc-4f16-953e-d4e260eccfea",
   "metadata": {},
   "outputs": [],
   "source": [
    "print('las dimensiones introducidas son B:',fil_b , col_b)"
   ]
  },
  {
   "cell_type": "code",
   "execution_count": null,
   "id": "d83f6e6b-7c1c-4a5f-ab91-dd5782c9f773",
   "metadata": {},
   "outputs": [],
   "source": [
    "def mult_seq(A,B):\n",
    "    m = len(A)\n",
    "    n = len(A[0])\n",
    "    p = len(B[0])\n",
    "    C = [[0 for _ in range(p)] for _ in range(m)]\n",
    "    if len(B) != n:\n",
    "        print(\"No es posible multiplicar las matrices, las dimensiones no son compatibles\")\n",
    "        return None\n",
    "    for i in range(m):\n",
    "        for j in range(p):\n",
    "            for k in range(n):\n",
    "                C[i][j] += A[i][k] * B[k][j]\n",
    "    print(C)"
   ]
  },
  {
   "cell_type": "code",
   "execution_count": null,
   "id": "d3347858-eff8-41db-8afb-bd3b3dae488f",
   "metadata": {},
   "outputs": [],
   "source": [
    "mult_seq(A,B)"
   ]
  },
  {
   "cell_type": "markdown",
   "id": "f160d44a-4bb2-4c77-915d-27a5c7ad1ad1",
   "metadata": {},
   "source": [
    "# Manera del profe"
   ]
  },
  {
   "cell_type": "code",
   "execution_count": null,
   "id": "1d9b1f6a-3519-40d5-a2fa-f37025e9bd93",
   "metadata": {},
   "outputs": [],
   "source": [
    "def mult_profe(A,B):\n",
    "    C = [[1] * col_e for i in range(fil_d)]\n",
    "    for i in range(fil_d):\n",
    "        for j in range(col_e):\n",
    "            for k in range(col_d):\n",
    "                C[i][j] += D[i][k] * E[k][j]\n",
    "    return C\n",
    "    "
   ]
  },
  {
   "cell_type": "code",
   "execution_count": null,
   "id": "fbebf674-67cd-4304-8552-30fb4b9dbb91",
   "metadata": {},
   "outputs": [],
   "source": [
    "mult_profe(D,E)"
   ]
  },
  {
   "cell_type": "code",
   "execution_count": 15,
   "id": "bf785b03-ea7e-4097-bbfe-373aad2ca14e",
   "metadata": {},
   "outputs": [],
   "source": [
    "D = [[rd.randint(1,99999999) for i in range(8)] for i in range(8)]"
   ]
  },
  {
   "cell_type": "code",
   "execution_count": 16,
   "id": "a092358c-3970-4269-86c2-9b0a8643e034",
   "metadata": {},
   "outputs": [],
   "source": [
    "E = [[rd.randint(1,99999999) for i in range(16)] for i in range(8)]"
   ]
  },
  {
   "cell_type": "code",
   "execution_count": 17,
   "id": "ba1b5f98-8f77-485a-ba16-30fb787619ac",
   "metadata": {},
   "outputs": [],
   "source": [
    "fil_d = len(D)"
   ]
  },
  {
   "cell_type": "code",
   "execution_count": 18,
   "id": "494b2252-224e-48ad-9f14-1e9edfcd09c2",
   "metadata": {},
   "outputs": [],
   "source": [
    "col_e = len(E[0])"
   ]
  },
  {
   "cell_type": "code",
   "execution_count": 19,
   "id": "76e13c23-d227-4040-9bdc-d64077a3bf3d",
   "metadata": {},
   "outputs": [],
   "source": [
    "col_d = len(D[0])"
   ]
  },
  {
   "cell_type": "markdown",
   "id": "e98abeae-e26b-4473-95d5-c87622d6b0ec",
   "metadata": {},
   "source": [
    "# Multiplicacion paralela"
   ]
  },
  {
   "cell_type": "code",
   "execution_count": 1,
   "id": "8e20f46c-c7a3-4843-8a54-a378d103da20",
   "metadata": {},
   "outputs": [],
   "source": [
    "import multiprocessing as mp"
   ]
  },
  {
   "cell_type": "code",
   "execution_count": 4,
   "id": "bafd371e-1af6-419d-9040-446e71f3eea7",
   "metadata": {},
   "outputs": [],
   "source": [
    "import math"
   ]
  },
  {
   "cell_type": "code",
   "execution_count": 2,
   "id": "65009385-3a04-417f-988d-5422d01711cb",
   "metadata": {},
   "outputs": [],
   "source": [
    "cores = mp.cpu_count()"
   ]
  },
  {
   "cell_type": "code",
   "execution_count": 3,
   "id": "3bcc4467-3e17-49a1-82fd-7434710d4a45",
   "metadata": {},
   "outputs": [
    {
     "data": {
      "text/plain": [
       "8"
      ]
     },
     "execution_count": 3,
     "metadata": {},
     "output_type": "execute_result"
    }
   ],
   "source": [
    "cores"
   ]
  },
  {
   "cell_type": "code",
   "execution_count": 20,
   "id": "786afe95-23cb-4354-83f1-ee2c1cde6c43",
   "metadata": {},
   "outputs": [],
   "source": [
    "def par_mult(A,B):\n",
    "    num_cores = mp.cpu_count()\n",
    "    size_col=math.ceil(col_e/num_cores)\n",
    "    size_fil=math.ceil(fil_d/num_cores)\n",
    "    MC=RawArray('i', fil_d*col_e)\n",
    "    cores=[]\n",
    "    for core in range(cores):\n",
    "        i_MC=(core*(size_fil, fil_d))\n",
    "        f_MC=(core+1)*(size_fil, fil_d)\n",
    "        cores.append(mp.Process(target=par_core), args=(D, E, MC, i_MC, f_MC))\n",
    "    for core in cores:\n",
    "        core.start()\n",
    "    for core in cores:\n",
    "        core.join()\n",
    "    C_2D=[[0]-col_e for i in range(fil_d)]\n",
    "    for i in range(fil_d):\n",
    "        for j in range(col_e):\n",
    "            C_2D[i][j]+= MC[i*col_e*j]\n",
    "    return C_2D"
   ]
  },
  {
   "cell_type": "code",
   "execution_count": 89,
   "id": "1ab3b32d-00e2-4b17-8723-1368c0985fe5",
   "metadata": {},
   "outputs": [
    {
     "data": {
      "text/plain": [
       "2.0"
      ]
     },
     "execution_count": 89,
     "metadata": {},
     "output_type": "execute_result"
    }
   ],
   "source": [
    "fil_d/cores"
   ]
  },
  {
   "cell_type": "code",
   "execution_count": 90,
   "id": "1ef0a618-8da6-4d6f-882c-4d76b97f29df",
   "metadata": {},
   "outputs": [
    {
     "data": {
      "text/plain": [
       "1.0"
      ]
     },
     "execution_count": 90,
     "metadata": {},
     "output_type": "execute_result"
    }
   ],
   "source": [
    "col_d/cores"
   ]
  },
  {
   "cell_type": "markdown",
   "id": "708604b3-4645-4b78-b3a2-d928b55b1e6d",
   "metadata": {},
   "source": [
    "## Par Core"
   ]
  },
  {
   "cell_type": "code",
   "execution_count": 22,
   "id": "d5a38748-7721-4367-a487-4f61c95d0967",
   "metadata": {},
   "outputs": [],
   "source": [
    "def par_core(D,E,MC,i_MC,f_MC):\n",
    "    for i in range(len(E[0])):\n",
    "        for j in range(len(D[0])):\n",
    "            for k in range(len(A[0])):\n",
    "                MC[i*len(E[0])+j] += A[i][k]*B[k][j]"
   ]
  },
  {
   "cell_type": "markdown",
   "id": "7ae6b038-7a98-4766-b26d-d9e24f109b97",
   "metadata": {},
   "source": [
    "## Sockets"
   ]
  },
  {
   "cell_type": "code",
   "execution_count": 1,
   "id": "58f2ecab-c6f0-45b5-96de-8175abbdbd11",
   "metadata": {},
   "outputs": [],
   "source": [
    "from IPython import display as dp"
   ]
  },
  {
   "cell_type": "code",
   "execution_count": 2,
   "id": "99e8d788-d955-4e21-a91d-83cde05bd056",
   "metadata": {},
   "outputs": [],
   "source": [
    "import socket as sc"
   ]
  },
  {
   "cell_type": "markdown",
   "id": "f2d99d13-2e9d-4800-81ef-389eacb776e3",
   "metadata": {},
   "source": [
    "## Arquitectura de la app"
   ]
  },
  {
   "cell_type": "code",
   "execution_count": 13,
   "id": "5fcab5ca-3e17-4d20-ad1a-6ecbfeec508f",
   "metadata": {},
   "outputs": [
    {
     "data": {
      "image/png": "[encoded data removed]",
      "text/plain": [
       "<IPython.core.display.Image object>"
      ]
     },
     "execution_count": 13,
     "metadata": {},
     "output_type": "execute_result"
    }
   ],
   "source": [
    "dp.Image(\"Screenshot 2023-11-21 at 18.02.23 (1).png\")"
   ]
  },
  {
   "cell_type": "code",
   "execution_count": null,
   "id": "425f737d-f512-403b-b70f-4fa64b70af96",
   "metadata": {},
   "outputs": [],
   "source": []
  },
  {
   "cell_type": "code",
   "execution_count": null,
   "id": "32b13d35-1f1e-4f87-be24-b881d01a2fd2",
   "metadata": {},
   "outputs": [],
   "source": []
  },
  {
   "cell_type": "code",
   "execution_count": null,
   "id": "92dd7cdc-ceb6-443e-a6e5-37f1e15be7e4",
   "metadata": {},
   "outputs": [],
   "source": []
  },
  {
   "cell_type": "markdown",
   "id": "717797b5-c42b-4d7c-a535-48cdaefa8885",
   "metadata": {},
   "source": [
    "## Cliente"
   ]
  },
  {
   "cell_type": "code",
   "execution_count": 3,
   "id": "9683b893-78eb-4e3a-a6c9-958c479086ce",
   "metadata": {},
   "outputs": [],
   "source": [
    "s=sc.socket()"
   ]
  },
  {
   "cell_type": "code",
   "execution_count": 30,
   "id": "42cf9342-0975-4649-9b8e-6c464ce2b9b4",
   "metadata": {},
   "outputs": [],
   "source": [
    "host_name=sc.gethostname()"
   ]
  },
  {
   "cell_type": "code",
   "execution_count": 32,
   "id": "5508fb7f-bf06-4a2c-9889-e0dc54c13ebd",
   "metadata": {},
   "outputs": [],
   "source": [
    "host=sc.gethostbyname(host_name)"
   ]
  },
  {
   "cell_type": "code",
   "execution_count": 5,
   "id": "14eb3418-3bb0-44fc-8f3b-520d0ab919ba",
   "metadata": {},
   "outputs": [
    {
     "name": "stdin",
     "output_type": "stream",
     "text": [
      "Introduzca el puerto que vaya a usar 2333\n"
     ]
    }
   ],
   "source": [
    "port = input(\"Introduzca el puerto que vaya a usar\")"
   ]
  },
  {
   "cell_type": "code",
   "execution_count": 7,
   "id": "6e18e97f-1294-4d6d-b963-720fe71789b1",
   "metadata": {},
   "outputs": [
    {
     "data": {
      "text/plain": [
       "('192.168.2.232', '2333')"
      ]
     },
     "execution_count": 7,
     "metadata": {},
     "output_type": "execute_result"
    }
   ],
   "source": [
    "host, port"
   ]
  },
  {
   "cell_type": "code",
   "execution_count": 8,
   "id": "ecb4efde-f413-4fbc-ae14-b75c7c09b0ed",
   "metadata": {},
   "outputs": [
    {
     "ename": "TimeoutError",
     "evalue": "[WinError 10060] Se produjo un error durante el intento de conexión ya que la parte conectada no respondió adecuadamente tras un periodo de tiempo, o bien se produjo un error en la conexión establecida ya que el host conectado no ha podido responder",
     "output_type": "error",
     "traceback": [
      "\u001b[1;31m---------------------------------------------------------------------------\u001b[0m",
      "\u001b[1;31mTimeoutError\u001b[0m                              Traceback (most recent call last)",
      "Cell \u001b[1;32mIn[8], line 1\u001b[0m\n\u001b[1;32m----> 1\u001b[0m \u001b[43ms\u001b[49m\u001b[38;5;241;43m.\u001b[39;49m\u001b[43mconnect\u001b[49m\u001b[43m(\u001b[49m\u001b[43m(\u001b[49m\u001b[43mhost\u001b[49m\u001b[43m,\u001b[49m\u001b[43m \u001b[49m\u001b[38;5;28;43mint\u001b[39;49m\u001b[43m(\u001b[49m\u001b[43mport\u001b[49m\u001b[43m)\u001b[49m\u001b[43m)\u001b[49m\u001b[43m)\u001b[49m\n",
      "\u001b[1;31mTimeoutError\u001b[0m: [WinError 10060] Se produjo un error durante el intento de conexión ya que la parte conectada no respondió adecuadamente tras un periodo de tiempo, o bien se produjo un error en la conexión establecida ya que el host conectado no ha podido responder"
     ]
    }
   ],
   "source": [
    "s.connect((host, int(port)))"
   ]
  },
  {
   "cell_type": "code",
   "execution_count": 9,
   "id": "89f02725-7c49-4a52-aa44-cad138ce90a1",
   "metadata": {},
   "outputs": [
    {
     "name": "stdout",
     "output_type": "stream",
     "text": [
      "\n",
      "Configuraci¢n IP de Windows\n",
      "\n",
      "\n",
      "Adaptador de LAN inal mbrica Conexi¢n de  rea local* 1:\n",
      "\n",
      "   Estado de los medios. . . . . . . . . . . : medios desconectados\n",
      "   Sufijo DNS espec¡fico para la conexi¢n. . : \n",
      "\n",
      "Adaptador de LAN inal mbrica Conexi¢n de  rea local* 2:\n",
      "\n",
      "   Estado de los medios. . . . . . . . . . . : medios desconectados\n",
      "   Sufijo DNS espec¡fico para la conexi¢n. . : \n",
      "\n",
      "Adaptador de LAN inal mbrica Wi-Fi:\n",
      "\n",
      "   Sufijo DNS espec¡fico para la conexi¢n. . : alumnos.uem.es\n",
      "   Direcci¢n IPv4. . . . . . . . . . . . . . : 10.34.82.100\n",
      "   M scara de subred . . . . . . . . . . . . : 255.255.248.0\n",
      "   Puerta de enlace predeterminada . . . . . : 10.34.80.1\n"
     ]
    }
   ],
   "source": [
    "!ipconfig"
   ]
  },
  {
   "cell_type": "markdown",
   "id": "b7065511-a2a9-43f8-9d7b-dc53cb3b836a",
   "metadata": {},
   "source": [
    "## Server"
   ]
  },
  {
   "cell_type": "code",
   "execution_count": 22,
   "id": "c4f5fa62-e0f2-4633-934d-bc355c33e51c",
   "metadata": {},
   "outputs": [],
   "source": [
    "import threading as th"
   ]
  },
  {
   "cell_type": "code",
   "execution_count": 23,
   "id": "40dcc593-9ae0-4eb8-b057-877d7b766c7f",
   "metadata": {},
   "outputs": [
    {
     "ename": "SyntaxError",
     "evalue": "incomplete input (4246439160.py, line 2)",
     "output_type": "error",
     "traceback": [
      "\u001b[1;36m  Cell \u001b[1;32mIn[23], line 2\u001b[1;36m\u001b[0m\n\u001b[1;33m    def __init__():\u001b[0m\n\u001b[1;37m                   ^\u001b[0m\n\u001b[1;31mSyntaxError\u001b[0m\u001b[1;31m:\u001b[0m incomplete input\n"
     ]
    }
   ],
   "source": [
    "class Server():\n",
    "    def __init__():"
   ]
  },
  {
   "cell_type": "code",
   "execution_count": 29,
   "id": "9b85a6dd-2640-49ea-b5ad-3c6698c4b598",
   "metadata": {},
   "outputs": [],
   "source": [
    "th.Thread(target = aceptar, daemon = True).start()\n",
    "th.Thread(target = procesar, daemon = True).start()"
   ]
  },
  {
   "cell_type": "code",
   "execution_count": 28,
   "id": "0288c87e-bd89-4d79-bcb8-474d61b77780",
   "metadata": {},
   "outputs": [],
   "source": [
    "def aceptar():\n",
    "    pass"
   ]
  },
  {
   "cell_type": "code",
   "execution_count": 25,
   "id": "47bf66db-7fc9-47a1-bdb1-9536cd5ff379",
   "metadata": {},
   "outputs": [],
   "source": [
    "def procesar():\n",
    "    pass"
   ]
  },
  {
   "cell_type": "code",
   "execution_count": 26,
   "id": "404d230b-1740-4778-86c2-7141afe7c4bf",
   "metadata": {},
   "outputs": [],
   "source": [
    "def broadcast():\n",
    "    pass"
   ]
  },
  {
   "cell_type": "code",
   "execution_count": null,
   "id": "81498eb1-d7db-4961-aa08-a94174606584",
   "metadata": {},
   "outputs": [],
   "source": []
  }
 ],
 "metadata": {
  "kernelspec": {
   "display_name": "Python 3 (ipykernel)",
   "language": "python",
   "name": "python3"
  },
  "language_info": {
   "codemirror_mode": {
    "name": "ipython",
    "version": 3
   },
   "file_extension": ".py",
   "mimetype": "text/x-python",
   "name": "python",
   "nbconvert_exporter": "python",
   "pygments_lexer": "ipython3",
   "version": "3.11.5"
  }
 },
 "nbformat": 4,
 "nbformat_minor": 5
}
