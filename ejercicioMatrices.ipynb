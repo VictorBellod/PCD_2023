{
 "cells": [
  {
   "cell_type": "markdown",
   "id": "056f8851-efd0-4153-aab8-bd394e061358",
   "metadata": {},
   "source": [
    "Matriz a que tenga 300 x 300 con numeros aleatorios de 0 a ,i numero de expediente(222)"
   ]
  },
  {
   "cell_type": "code",
   "execution_count": null,
   "id": "522f488f-7d49-491b-bae7-3c0b85417bc1",
   "metadata": {},
   "outputs": [],
   "source": [
    "import numpy as np"
   ]
  },
  {
   "cell_type": "code",
   "execution_count": null,
   "id": "53c63d52-474f-4c24-8f78-e3f841f4513a",
   "metadata": {},
   "outputs": [],
   "source": [
    "A = [[rd.randint(0, 223) for i in range (fil_a)] for j in range(col_b)]"
   ]
  },
  {
   "cell_type": "code",
   "execution_count": null,
   "id": "4f4273ed-dff4-4274-a6d6-67af28087119",
   "metadata": {},
   "outputs": [],
   "source": [
    "A"
   ]
  },
  {
   "cell_type": "code",
   "execution_count": null,
   "id": "91a845bd-79a5-4ec3-8a1c-044e23566993",
   "metadata": {},
   "outputs": [],
   "source": []
  },
  {
   "cell_type": "code",
   "execution_count": null,
   "id": "f3c86d54-d879-44f5-8dea-81a4b89dc73a",
   "metadata": {},
   "outputs": [],
   "source": [
    "import random as rd"
   ]
  },
  {
   "cell_type": "code",
   "execution_count": null,
   "id": "c815b016-6449-4430-8a8a-516ea3d1cb63",
   "metadata": {},
   "outputs": [],
   "source": [
    "B = [[rd.randint(0, 223) for i in range (fil_b)] for j in range(col_b)]"
   ]
  },
  {
   "cell_type": "code",
   "execution_count": null,
   "id": "34f69e02-4bb6-46d8-bd31-30adea6f2573",
   "metadata": {},
   "outputs": [],
   "source": [
    "B"
   ]
  },
  {
   "cell_type": "code",
   "execution_count": null,
   "id": "580d46d5-3658-45fc-ad6e-295bbcf51883",
   "metadata": {},
   "outputs": [],
   "source": [
    "len(A[0])"
   ]
  },
  {
   "cell_type": "code",
   "execution_count": null,
   "id": "ff66a08b-bb96-4f4a-ad37-f5242f8a6ca7",
   "metadata": {},
   "outputs": [],
   "source": [
    "len(A)"
   ]
  },
  {
   "cell_type": "code",
   "execution_count": null,
   "id": "e5ef2ee8-7a20-4872-9ca9-de8299894651",
   "metadata": {},
   "outputs": [],
   "source": [
    "if len(A[0]) == len(B):\n",
    "    print('Las matrices son compatibles')\n",
    "else:\n",
    "    print('tarugo, deben de ser compatibles')"
   ]
  },
  {
   "cell_type": "code",
   "execution_count": null,
   "id": "622bfd69-1cd2-4b0b-99ff-32cd4d478d51",
   "metadata": {},
   "outputs": [],
   "source": [
    "fil_a=int(input ('Ingrese las filas de A:'))"
   ]
  },
  {
   "cell_type": "code",
   "execution_count": null,
   "id": "35b21b74-c063-42a5-9f36-cf6598aff176",
   "metadata": {},
   "outputs": [],
   "source": [
    "col_a=int(input ('Ingrese las columnas de A:'))"
   ]
  },
  {
   "cell_type": "code",
   "execution_count": null,
   "id": "8f74ed03-fe35-465c-b988-0fd022666a60",
   "metadata": {},
   "outputs": [],
   "source": [
    "fil_b=int(input ('Ingrese las filas de B:'))"
   ]
  },
  {
   "cell_type": "code",
   "execution_count": null,
   "id": "7d523eca-9578-402a-b3c3-71587c63b2f3",
   "metadata": {},
   "outputs": [],
   "source": [
    "col_b=int(input ('Ingrese las columnas de B:'))"
   ]
  },
  {
   "cell_type": "code",
   "execution_count": null,
   "id": "062a6640-e688-4bc2-9b06-36993fbb41f6",
   "metadata": {},
   "outputs": [],
   "source": [
    "print('las dimensiones introducidas son A:',fil_a , col_a)"
   ]
  },
  {
   "cell_type": "code",
   "execution_count": null,
   "id": "2a46e66e-68cc-4f16-953e-d4e260eccfea",
   "metadata": {},
   "outputs": [],
   "source": [
    "print('las dimensiones introducidas son B:',fil_b , col_b)"
   ]
  },
  {
   "cell_type": "code",
   "execution_count": null,
   "id": "d83f6e6b-7c1c-4a5f-ab91-dd5782c9f773",
   "metadata": {},
   "outputs": [],
   "source": [
    "def mult_seq(A,B):\n",
    "    m = len(A)\n",
    "    n = len(A[0])\n",
    "    p = len(B[0])\n",
    "    C = [[0 for _ in range(p)] for _ in range(m)]\n",
    "    if len(B) != n:\n",
    "        print(\"No es posible multiplicar las matrices, las dimensiones no son compatibles\")\n",
    "        return None\n",
    "    for i in range(m):\n",
    "        for j in range(p):\n",
    "            for k in range(n):\n",
    "                C[i][j] += A[i][k] * B[k][j]\n",
    "    print(C)"
   ]
  },
  {
   "cell_type": "code",
   "execution_count": null,
   "id": "d3347858-eff8-41db-8afb-bd3b3dae488f",
   "metadata": {},
   "outputs": [],
   "source": [
    "mult_seq(A,B)"
   ]
  },
  {
   "cell_type": "markdown",
   "id": "f160d44a-4bb2-4c77-915d-27a5c7ad1ad1",
   "metadata": {},
   "source": [
    "# Manera del profe"
   ]
  },
  {
   "cell_type": "code",
   "execution_count": null,
   "id": "1d9b1f6a-3519-40d5-a2fa-f37025e9bd93",
   "metadata": {},
   "outputs": [],
   "source": [
    "def mult_profe(A,B):\n",
    "    C = [[1] * col_e for i in range(fil_d)]\n",
    "    for i in range(fil_d):\n",
    "        for j in range(col_e):\n",
    "            for k in range(col_d):\n",
    "                C[i][j] += D[i][k] * E[k][j]\n",
    "    return C\n",
    "    "
   ]
  },
  {
   "cell_type": "code",
   "execution_count": null,
   "id": "fbebf674-67cd-4304-8552-30fb4b9dbb91",
   "metadata": {},
   "outputs": [],
   "source": [
    "mult_profe(D,E)"
   ]
  },
  {
   "cell_type": "code",
   "execution_count": null,
   "id": "bf785b03-ea7e-4097-bbfe-373aad2ca14e",
   "metadata": {},
   "outputs": [],
   "source": [
    "D = [[rd.randint(1,99999999) for i in range(8)] for i in range(8)]"
   ]
  },
  {
   "cell_type": "code",
   "execution_count": null,
   "id": "a092358c-3970-4269-86c2-9b0a8643e034",
   "metadata": {},
   "outputs": [],
   "source": [
    "E = [[rd.randint(1,99999999) for i in range(16)] for i in range(8)]"
   ]
  },
  {
   "cell_type": "code",
   "execution_count": null,
   "id": "ba1b5f98-8f77-485a-ba16-30fb787619ac",
   "metadata": {},
   "outputs": [],
   "source": [
    "fil_d = len(D)"
   ]
  },
  {
   "cell_type": "code",
   "execution_count": null,
   "id": "494b2252-224e-48ad-9f14-1e9edfcd09c2",
   "metadata": {},
   "outputs": [],
   "source": [
    "col_e = len(E[0])"
   ]
  },
  {
   "cell_type": "code",
   "execution_count": null,
   "id": "76e13c23-d227-4040-9bdc-d64077a3bf3d",
   "metadata": {},
   "outputs": [],
   "source": [
    "col_d = len(D[0])"
   ]
  },
  {
   "cell_type": "markdown",
   "id": "e98abeae-e26b-4473-95d5-c87622d6b0ec",
   "metadata": {},
   "source": [
    "# Multiplicacion paralela"
   ]
  },
  {
   "cell_type": "code",
   "execution_count": 85,
   "id": "8e20f46c-c7a3-4843-8a54-a378d103da20",
   "metadata": {},
   "outputs": [],
   "source": [
    "import multiprocessing as mp"
   ]
  },
  {
   "cell_type": "code",
   "execution_count": 86,
   "id": "65009385-3a04-417f-988d-5422d01711cb",
   "metadata": {},
   "outputs": [],
   "source": [
    "cores = mp.cpu_count()"
   ]
  },
  {
   "cell_type": "code",
   "execution_count": 87,
   "id": "3bcc4467-3e17-49a1-82fd-7434710d4a45",
   "metadata": {},
   "outputs": [
    {
     "data": {
      "text/plain": [
       "8"
      ]
     },
     "execution_count": 87,
     "metadata": {},
     "output_type": "execute_result"
    }
   ],
   "source": [
    "cores"
   ]
  },
  {
   "cell_type": "code",
   "execution_count": null,
   "id": "786afe95-23cb-4354-83f1-ee2c1cde6c43",
   "metadata": {},
   "outputs": [],
   "source": [
    "def par_mult(A,B):\n",
    "    cores = mp.cpu_count()\n",
    "    fil_d/cores\n",
    "    col_e\n",
    "    col_d\n",
    "    fil_e\n",
    "    "
   ]
  },
  {
   "cell_type": "code",
   "execution_count": 89,
   "id": "1ab3b32d-00e2-4b17-8723-1368c0985fe5",
   "metadata": {},
   "outputs": [
    {
     "data": {
      "text/plain": [
       "2.0"
      ]
     },
     "execution_count": 89,
     "metadata": {},
     "output_type": "execute_result"
    }
   ],
   "source": [
    "fil_d/cores"
   ]
  },
  {
   "cell_type": "code",
   "execution_count": 90,
   "id": "1ef0a618-8da6-4d6f-882c-4d76b97f29df",
   "metadata": {},
   "outputs": [
    {
     "data": {
      "text/plain": [
       "1.0"
      ]
     },
     "execution_count": 90,
     "metadata": {},
     "output_type": "execute_result"
    }
   ],
   "source": [
    "col_d/cores"
   ]
  },
  {
   "cell_type": "code",
   "execution_count": null,
   "id": "5ca810ab-4ad8-4393-bfdd-f5d377589aba",
   "metadata": {},
   "outputs": [],
   "source": []
  }
 ],
 "metadata": {
  "kernelspec": {
   "display_name": "Python 3 (ipykernel)",
   "language": "python",
   "name": "python3"
  },
  "language_info": {
   "codemirror_mode": {
    "name": "ipython",
    "version": 3
   },
   "file_extension": ".py",
   "mimetype": "text/x-python",
   "name": "python",
   "nbconvert_exporter": "python",
   "pygments_lexer": "ipython3",
   "version": "3.11.5"
  }
 },
 "nbformat": 4,
 "nbformat_minor": 5
}
